{
 "cells": [
  {
   "cell_type": "code",
   "execution_count": 4,
   "outputs": [],
   "source": [
    "import os"
   ],
   "metadata": {
    "collapsed": false,
    "ExecuteTime": {
     "end_time": "2023-12-11T18:28:36.351159Z",
     "start_time": "2023-12-11T18:28:36.345365Z"
    }
   },
   "id": "59711af034f2ee5d"
  },
  {
   "cell_type": "markdown",
   "source": [
    "Please set your working directory as required."
   ],
   "metadata": {
    "collapsed": false
   },
   "id": "fa46678a0e98a31f"
  },
  {
   "cell_type": "code",
   "execution_count": 5,
   "outputs": [],
   "source": [
    "os.chdir('/Users/thomasmariafrey/Desktop/University/IRRS-MDS Information Retrieval and Recommender Systems/Lab/Lab Work/lab4')"
   ],
   "metadata": {
    "collapsed": false,
    "ExecuteTime": {
     "end_time": "2023-12-11T18:28:37.892329Z",
     "start_time": "2023-12-11T18:28:37.887633Z"
    }
   },
   "id": "1b1b7d8628c1f7e1"
  },
  {
   "cell_type": "markdown",
   "source": [
    "Testing starting here"
   ],
   "metadata": {
    "collapsed": false
   },
   "id": "9e3fa8041e76cf44"
  },
  {
   "cell_type": "code",
   "execution_count": 9,
   "id": "initial_id",
   "metadata": {
    "collapsed": true,
    "ExecuteTime": {
     "end_time": "2023-12-11T18:29:52.280387Z",
     "start_time": "2023-12-11T18:29:51.983482Z"
    }
   },
   "outputs": [],
   "source": [
    "!python3 GeneratePrototypes.py --nclust=3"
   ]
  },
  {
   "cell_type": "markdown",
   "source": [
    "This code throws a task failed exception in the current state"
   ],
   "metadata": {
    "collapsed": false
   },
   "id": "7a1d4f4a127b98ee"
  },
  {
   "cell_type": "code",
   "execution_count": 10,
   "outputs": [
    {
     "name": "stdout",
     "output_type": "stream",
     "text": [
      "Iteration 1 ...\r\n",
      "No configs specified for local runner\r\n",
      "\r\n",
      "Probable cause of failure:\r\n",
      "\r\n",
      "+ /Library/Frameworks/Python.framework/Versions/3.11/bin/python3 MRKmeansStep.py --step-num=0 --reducer --prot prototypes0-1.txt\r\n",
      "Traceback (most recent call last):\r\n",
      "  File \"/private/var/folders/4s/k83st7_j4dvb6rkm70g_prd00000gn/T/MRKmeansStep.thomasmariafrey.20231211.183855.623893/step/000/reducer/00000/wd/MRKmeansStep.py\", line 176, in <module>\r\n",
      "    MRKmeansStep.run()\r\n",
      "  File \"/private/var/folders/4s/k83st7_j4dvb6rkm70g_prd00000gn/T/MRKmeansStep.thomasmariafrey.20231211.183855.623893/step/000/reducer/00000/wd/mrjob.zip/mrjob/job.py\", line 616, in run\r\n",
      "  File \"/private/var/folders/4s/k83st7_j4dvb6rkm70g_prd00000gn/T/MRKmeansStep.thomasmariafrey.20231211.183855.623893/step/000/reducer/00000/wd/mrjob.zip/mrjob/job.py\", line 681, in execute\r\n",
      "  File \"/private/var/folders/4s/k83st7_j4dvb6rkm70g_prd00000gn/T/MRKmeansStep.thomasmariafrey.20231211.183855.623893/step/000/reducer/00000/wd/mrjob.zip/mrjob/job.py\", line 795, in run_reducer\r\n",
      "  File \"/private/var/folders/4s/k83st7_j4dvb6rkm70g_prd00000gn/T/MRKmeansStep.thomasmariafrey.20231211.183855.623893/step/000/reducer/00000/wd/mrjob.zip/mrjob/job.py\", line 866, in reduce_pairs\r\n",
      "  File \"/private/var/folders/4s/k83st7_j4dvb6rkm70g_prd00000gn/T/MRKmeansStep.thomasmariafrey.20231211.183855.623893/step/000/reducer/00000/wd/mrjob.zip/mrjob/job.py\", line 889, in _combine_or_reduce_pairs\r\n",
      "  File \"/private/var/folders/4s/k83st7_j4dvb6rkm70g_prd00000gn/T/MRKmeansStep.thomasmariafrey.20231211.183855.623893/step/000/reducer/00000/wd/MRKmeansStep.py\", line 149, in aggregate_prototype\r\n",
      "    doc_num = len(values)\r\n",
      "              ^^^^^^^^^^^\r\n",
      "TypeError: object of type 'generator' has no len()\r\n",
      "\r\n",
      "(from lines 8-20 of /var/folders/4s/k83st7_j4dvb6rkm70g_prd00000gn/T/MRKmeansStep.thomasmariafrey.20231211.183855.623893/step/000/reducer/00000/stderr)\r\n",
      "\r\n",
      "while reading input from /var/folders/4s/k83st7_j4dvb6rkm70g_prd00000gn/T/MRKmeansStep.thomasmariafrey.20231211.183855.623893/step/000/reducer/00000/input\r\n",
      "\r\n",
      "\r\n",
      "multiprocessing.pool.RemoteTraceback: \r\n",
      "\"\"\"\r\n",
      "Traceback (most recent call last):\r\n",
      "  File \"/Library/Frameworks/Python.framework/Versions/3.11/lib/python3.11/site-packages/mrjob/local.py\", line 270, in _invoke_task_in_subprocess\r\n",
      "    check_call(args, stdin=stdin, stdout=stdout, stderr=stderr,\r\n",
      "  File \"/Library/Frameworks/Python.framework/Versions/3.11/lib/python3.11/subprocess.py\", line 413, in check_call\r\n",
      "    raise CalledProcessError(retcode, cmd)\r\n",
      "subprocess.CalledProcessError: Command '['/bin/sh', '-ex', 'setup-wrapper.sh', '/Library/Frameworks/Python.framework/Versions/3.11/bin/python3', 'MRKmeansStep.py', '--step-num=0', '--reducer', '--prot', 'prototypes0-1.txt']' returned non-zero exit status 1.\r\n",
      "\r\n",
      "During handling of the above exception, another exception occurred:\r\n",
      "\r\n",
      "Traceback (most recent call last):\r\n",
      "  File \"/Library/Frameworks/Python.framework/Versions/3.11/lib/python3.11/multiprocessing/pool.py\", line 125, in worker\r\n",
      "    result = (True, func(*args, **kwds))\r\n",
      "                    ^^^^^^^^^^^^^^^^^^^\r\n",
      "  File \"/Library/Frameworks/Python.framework/Versions/3.11/lib/python3.11/site-packages/mrjob/local.py\", line 286, in _pickle_safe\r\n",
      "    func()  # always return None\r\n",
      "    ^^^^^^\r\n",
      "  File \"/Library/Frameworks/Python.framework/Versions/3.11/lib/python3.11/site-packages/mrjob/sim.py\", line 746, in _run_task\r\n",
      "    invoke_task(\r\n",
      "  File \"/Library/Frameworks/Python.framework/Versions/3.11/lib/python3.11/site-packages/mrjob/local.py\", line 273, in _invoke_task_in_subprocess\r\n",
      "    raise _TaskFailedException(\r\n",
      "mrjob.local._TaskFailedException: Step 1 of 1 failed: Command '['/bin/sh', '-ex', 'setup-wrapper.sh', '/Library/Frameworks/Python.framework/Versions/3.11/bin/python3', 'MRKmeansStep.py', '--step-num=0', '--reducer', '--prot', 'prototypes0-1.txt']' returned non-zero exit status 1.\r\n",
      "\"\"\"\r\n",
      "\r\n",
      "The above exception was the direct cause of the following exception:\r\n",
      "\r\n",
      "Traceback (most recent call last):\r\n",
      "  File \"/Users/thomasmariafrey/Desktop/University/IRRS-MDS Information Retrieval and Recommender Systems/Lab/Lab Work/lab4/MRKmeans.py\", line 58, in <module>\r\n",
      "    runner1.run()\r\n",
      "  File \"/Library/Frameworks/Python.framework/Versions/3.11/lib/python3.11/site-packages/mrjob/runner.py\", line 503, in run\r\n",
      "    self._run()\r\n",
      "  File \"/Library/Frameworks/Python.framework/Versions/3.11/lib/python3.11/site-packages/mrjob/sim.py\", line 161, in _run\r\n",
      "    self._run_step(step, step_num)\r\n",
      "  File \"/Library/Frameworks/Python.framework/Versions/3.11/lib/python3.11/site-packages/mrjob/sim.py\", line 170, in _run_step\r\n",
      "    self._run_streaming_step(step, step_num)\r\n",
      "  File \"/Library/Frameworks/Python.framework/Versions/3.11/lib/python3.11/site-packages/mrjob/sim.py\", line 187, in _run_streaming_step\r\n",
      "    self._run_reducers(step_num, num_reducer_tasks)\r\n",
      "  File \"/Library/Frameworks/Python.framework/Versions/3.11/lib/python3.11/site-packages/mrjob/sim.py\", line 289, in _run_reducers\r\n",
      "    self._run_multiple(\r\n",
      "  File \"/Library/Frameworks/Python.framework/Versions/3.11/lib/python3.11/site-packages/mrjob/local.py\", line 154, in _run_multiple\r\n",
      "    result.get()\r\n",
      "  File \"/Library/Frameworks/Python.framework/Versions/3.11/lib/python3.11/multiprocessing/pool.py\", line 774, in get\r\n",
      "    raise self._value\r\n",
      "mrjob.local._TaskFailedException: Step 1 of 1 failed: Command '['/bin/sh', '-ex', 'setup-wrapper.sh', '/Library/Frameworks/Python.framework/Versions/3.11/bin/python3', 'MRKmeansStep.py', '--step-num=0', '--reducer', '--prot', 'prototypes0-1.txt']' returned non-zero exit status 1.\r\n"
     ]
    }
   ],
   "source": [
    "!python3 MRKmeans.py \n",
    "    #parser.add_argument('--prot', default='prototypes.txt', help='Initial prototpes file')\n",
    "    #parser.add_argument('--docs', default='documents.txt', help='Documents data')\n",
    "    #parser.add_argument('--iter', default=5, type=int, help='Number of iterations')\n",
    "    #parser.add_argument('--ncores', default=2, type=int, help='Number of parallel processes to use')"
   ],
   "metadata": {
    "collapsed": false,
    "ExecuteTime": {
     "end_time": "2023-12-11T18:38:58.012172Z",
     "start_time": "2023-12-11T18:38:55.359782Z"
    }
   },
   "id": "3a54339a65b0ea11"
  },
  {
   "cell_type": "markdown",
   "source": [
    "This code runs very slowly"
   ],
   "metadata": {
    "collapsed": false
   },
   "id": "681aa98aff8041db"
  },
  {
   "cell_type": "code",
   "execution_count": null,
   "outputs": [],
   "source": [
    "!python3 MRKmeans.py --prot='prototypes.txt' --docs='documents.txt',--iter=5--ncores=1"
   ],
   "metadata": {
    "collapsed": false,
    "is_executing": true
   },
   "id": "e419c27355438ab6"
  }
 ],
 "metadata": {
  "kernelspec": {
   "display_name": "Python 3",
   "language": "python",
   "name": "python3"
  },
  "language_info": {
   "codemirror_mode": {
    "name": "ipython",
    "version": 2
   },
   "file_extension": ".py",
   "mimetype": "text/x-python",
   "name": "python",
   "nbconvert_exporter": "python",
   "pygments_lexer": "ipython2",
   "version": "2.7.6"
  }
 },
 "nbformat": 4,
 "nbformat_minor": 5
}
